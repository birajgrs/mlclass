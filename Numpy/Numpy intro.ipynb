{
 "cells": [
  {
   "cell_type": "code",
   "execution_count": 1,
   "id": "2ba18624",
   "metadata": {},
   "outputs": [],
   "source": [
    "import numpy as np"
   ]
  },
  {
   "cell_type": "code",
   "execution_count": 2,
   "id": "fa432f6c",
   "metadata": {},
   "outputs": [],
   "source": [
    "arr=np.array([1,2,3,4,5])"
   ]
  },
  {
   "cell_type": "code",
   "execution_count": 3,
   "id": "72174913",
   "metadata": {},
   "outputs": [
    {
     "name": "stdout",
     "output_type": "stream",
     "text": [
      "[1 2 3 4 5]\n",
      "1 2 3 4 5 "
     ]
    }
   ],
   "source": [
    "print(arr)\n",
    "#using loop\n",
    "for item in arr:\n",
    "    print(item,end=' ')"
   ]
  },
  {
   "cell_type": "code",
   "execution_count": 4,
   "id": "b3a00ec1",
   "metadata": {},
   "outputs": [
    {
     "data": {
      "text/plain": [
       "1"
      ]
     },
     "execution_count": 4,
     "metadata": {},
     "output_type": "execute_result"
    }
   ],
   "source": [
    "arr[0]"
   ]
  },
  {
   "cell_type": "code",
   "execution_count": 5,
   "id": "fac0435f",
   "metadata": {},
   "outputs": [
    {
     "data": {
      "text/plain": [
       "2"
      ]
     },
     "execution_count": 5,
     "metadata": {},
     "output_type": "execute_result"
    }
   ],
   "source": [
    "arr[1]"
   ]
  },
  {
   "cell_type": "code",
   "execution_count": 6,
   "id": "e3c814c1",
   "metadata": {},
   "outputs": [
    {
     "name": "stdout",
     "output_type": "stream",
     "text": [
      "3\n"
     ]
    }
   ],
   "source": [
    "print(arr[2])"
   ]
  },
  {
   "cell_type": "code",
   "execution_count": 7,
   "id": "fe8000b5",
   "metadata": {},
   "outputs": [
    {
     "data": {
      "text/plain": [
       "5"
      ]
     },
     "execution_count": 7,
     "metadata": {},
     "output_type": "execute_result"
    }
   ],
   "source": [
    "arr[-1]"
   ]
  },
  {
   "cell_type": "code",
   "execution_count": 8,
   "id": "0159e35c",
   "metadata": {},
   "outputs": [
    {
     "data": {
      "text/plain": [
       "4"
      ]
     },
     "execution_count": 8,
     "metadata": {},
     "output_type": "execute_result"
    }
   ],
   "source": [
    "arr[-2]"
   ]
  },
  {
   "cell_type": "code",
   "execution_count": 9,
   "id": "3e53a75c",
   "metadata": {},
   "outputs": [
    {
     "name": "stdout",
     "output_type": "stream",
     "text": [
      "1\n",
      "2\n",
      "3\n",
      "4\n",
      "5\n"
     ]
    }
   ],
   "source": [
    "for index in range(len(arr)):\n",
    "    print(arr[index])"
   ]
  },
  {
   "cell_type": "code",
   "execution_count": 10,
   "id": "0d660b1c",
   "metadata": {},
   "outputs": [
    {
     "name": "stdout",
     "output_type": "stream",
     "text": [
      "[0. 0. 0. 0. 0.]\n"
     ]
    }
   ],
   "source": [
    "#Creating Array with 5 zeros\n",
    "\n",
    "k=np.zeros(5)\n",
    "print(k)"
   ]
  },
  {
   "cell_type": "code",
   "execution_count": 11,
   "id": "45e9b316",
   "metadata": {},
   "outputs": [
    {
     "name": "stdout",
     "output_type": "stream",
     "text": [
      "[1. 1. 1. 1. 1.]\n"
     ]
    }
   ],
   "source": [
    "# Creating Array with 5 ones\n",
    "\n",
    "l=np.ones(5)\n",
    "print(l)"
   ]
  },
  {
   "cell_type": "markdown",
   "id": "c42d93c0",
   "metadata": {},
   "source": [
    "# Sorting the Content of Arrays"
   ]
  },
  {
   "cell_type": "code",
   "execution_count": 12,
   "id": "4991f62d",
   "metadata": {},
   "outputs": [
    {
     "name": "stdout",
     "output_type": "stream",
     "text": [
      "Original Arrays:  [10 35 20 45 55 40 30 16]\n",
      "After Sorting Arrays:  [10 16 20 30 35 40 45 55]\n"
     ]
    }
   ],
   "source": [
    "original_arrays=np.array([10,35,20,45,55,40,30,16])\n",
    "\n",
    "print(\"Original Arrays: \",original_arrays)\n",
    "\n",
    "after_sorting=np.sort(original_arrays)\n",
    "\n",
    "print(\"After Sorting Arrays: \", after_sorting)\n"
   ]
  },
  {
   "cell_type": "markdown",
   "id": "8ca7eb31",
   "metadata": {},
   "source": [
    "# Slicing in Numpy"
   ]
  },
  {
   "cell_type": "code",
   "execution_count": 13,
   "id": "25336c4d",
   "metadata": {},
   "outputs": [
    {
     "name": "stdout",
     "output_type": "stream",
     "text": [
      "[1 3 4 5 6 7 7 8]\n"
     ]
    }
   ],
   "source": [
    "import numpy as np\n",
    "arr=np.array([1,3,4,5,6,7,7,8])\n",
    "print(arr)"
   ]
  },
  {
   "cell_type": "code",
   "execution_count": 14,
   "id": "baaa11a3",
   "metadata": {},
   "outputs": [
    {
     "name": "stdout",
     "output_type": "stream",
     "text": [
      "[4 5 6]\n"
     ]
    }
   ],
   "source": [
    "print(arr[2:5])"
   ]
  },
  {
   "cell_type": "code",
   "execution_count": 15,
   "id": "60f50600",
   "metadata": {},
   "outputs": [
    {
     "name": "stdout",
     "output_type": "stream",
     "text": [
      "[4 7]\n"
     ]
    }
   ],
   "source": [
    "print(arr[2:6:3])"
   ]
  },
  {
   "cell_type": "code",
   "execution_count": 16,
   "id": "c80ab35c",
   "metadata": {},
   "outputs": [
    {
     "name": "stdout",
     "output_type": "stream",
     "text": [
      "[1 3 4 5]\n"
     ]
    }
   ],
   "source": [
    "print(arr[:4])"
   ]
  },
  {
   "cell_type": "code",
   "execution_count": 17,
   "id": "c828cc11",
   "metadata": {},
   "outputs": [
    {
     "name": "stdout",
     "output_type": "stream",
     "text": [
      "[6 7 7 8]\n"
     ]
    }
   ],
   "source": [
    "print(arr[4:])"
   ]
  },
  {
   "cell_type": "code",
   "execution_count": 18,
   "id": "d4ff53bd",
   "metadata": {},
   "outputs": [
    {
     "name": "stdout",
     "output_type": "stream",
     "text": [
      "[6 7 7]\n"
     ]
    }
   ],
   "source": [
    "print(arr[-4:-1])"
   ]
  },
  {
   "cell_type": "markdown",
   "id": "88f37270",
   "metadata": {},
   "source": [
    "# Mathematical Operation in and array"
   ]
  },
  {
   "cell_type": "code",
   "execution_count": 19,
   "id": "0a7e0daa",
   "metadata": {},
   "outputs": [
    {
     "name": "stdout",
     "output_type": "stream",
     "text": [
      "Original Array: [1 3 4 5 6 7 7 8]\n"
     ]
    }
   ],
   "source": [
    "print(\"Original Array:\", arr)"
   ]
  },
  {
   "cell_type": "code",
   "execution_count": 20,
   "id": "13a2bcc5",
   "metadata": {},
   "outputs": [
    {
     "name": "stdout",
     "output_type": "stream",
     "text": [
      "After additional operation:  [ 6  8  9 10 11 12 12 13]\n"
     ]
    }
   ],
   "source": [
    "arr=arr+5\n",
    "print(\"After additional operation: \",arr)"
   ]
  },
  {
   "cell_type": "code",
   "execution_count": 21,
   "id": "ee735ddd",
   "metadata": {},
   "outputs": [
    {
     "name": "stdout",
     "output_type": "stream",
     "text": [
      "After additional operation:  [ 3  5  6  7  8  9  9 10]\n"
     ]
    }
   ],
   "source": [
    "arr=arr-3\n",
    "print(\"After additional operation: \",arr)"
   ]
  },
  {
   "cell_type": "markdown",
   "id": "984b5a2a",
   "metadata": {},
   "source": [
    "# Searching Arrays"
   ]
  },
  {
   "cell_type": "code",
   "execution_count": 22,
   "id": "599ef06f",
   "metadata": {},
   "outputs": [
    {
     "name": "stdout",
     "output_type": "stream",
     "text": [
      "(array([7], dtype=int64),)\n"
     ]
    }
   ],
   "source": [
    "import numpy as np\n",
    "aray=np.array([1,3,4,5,6,7,7,8,9,11,0,10])\n",
    "x=np.where(aray==8)\n",
    "print(x)"
   ]
  },
  {
   "cell_type": "markdown",
   "id": "c43d114f",
   "metadata": {},
   "source": [
    "# Filtering an array"
   ]
  },
  {
   "cell_type": "code",
   "execution_count": 23,
   "id": "febdd9fa",
   "metadata": {},
   "outputs": [
    {
     "name": "stdout",
     "output_type": "stream",
     "text": [
      "[2 4 6]\n"
     ]
    }
   ],
   "source": [
    "import numpy as np\n",
    "arr = np.array([2, 3, 4, 5, 6, 7])\n",
    "x = np.array([True, False, True, False, True, False]) \n",
    "newArr = arr[x]\n",
    "print(newArr)\n"
   ]
  },
  {
   "cell_type": "markdown",
   "id": "f80c6ce0",
   "metadata": {},
   "source": [
    "# Check given array is empty or not"
   ]
  },
  {
   "cell_type": "code",
   "execution_count": 29,
   "id": "e1e216ad",
   "metadata": {},
   "outputs": [
    {
     "name": "stdout",
     "output_type": "stream",
     "text": [
      "Array is not empty.\n",
      "Array contains:  [1 2 3]\n"
     ]
    }
   ],
   "source": [
    "# arr=np.array([])\n",
    "arr=np.array([1,2,3])\n",
    "\n",
    "if (arr.size==0):\n",
    "    print(\"Array is empty!\")\n",
    "else:\n",
    "    print(\"Array is not empty.\")\n",
    "    print(\"Array contains: \",arr)\n"
   ]
  },
  {
   "cell_type": "markdown",
   "id": "29221748",
   "metadata": {},
   "source": [
    "# Creating and displaying 2D array"
   ]
  },
  {
   "cell_type": "code",
   "execution_count": 32,
   "id": "486bc377",
   "metadata": {},
   "outputs": [
    {
     "name": "stdout",
     "output_type": "stream",
     "text": [
      "[[1 2]\n",
      " [3 4]]\n",
      "[1 2]\n",
      "[3 4]\n"
     ]
    }
   ],
   "source": [
    "import numpy as np\n",
    "\n",
    "arr=np.array([[1,2],[3,4]])\n",
    "print(arr)\n",
    "\n",
    "for items in arr:\n",
    "    print(items)"
   ]
  },
  {
   "cell_type": "code",
   "execution_count": 33,
   "id": "05d81ef9",
   "metadata": {},
   "outputs": [
    {
     "name": "stdout",
     "output_type": "stream",
     "text": [
      "Dimention of A:  1\n",
      "Dimention of B:  2\n"
     ]
    }
   ],
   "source": [
    "# Check dimention of array\n",
    "\n",
    "A=np.array([1,2,3,4])\n",
    "B=np.array([[1,2,3],[3,4,5]])\n",
    "\n",
    "print(\"Dimention of A: \", A.ndim)\n",
    "print(\"Dimention of B: \", B.ndim)\n"
   ]
  },
  {
   "cell_type": "code",
   "execution_count": 36,
   "id": "adcbbefa",
   "metadata": {},
   "outputs": [
    {
     "name": "stdout",
     "output_type": "stream",
     "text": [
      "Size of  elements in A:  4\n",
      "Size of  elements in B:  6\n"
     ]
    }
   ],
   "source": [
    "# Size attribute\n",
    "print(\"Size of  elements in A: \",A.size)\n",
    "print(\"Size of  elements in B: \",B.size)\n"
   ]
  },
  {
   "cell_type": "markdown",
   "id": "ba95fcdb",
   "metadata": {},
   "source": [
    "# Shaping and reshaping "
   ]
  },
  {
   "cell_type": "code",
   "execution_count": 38,
   "id": "69ae7179",
   "metadata": {},
   "outputs": [
    {
     "name": "stdout",
     "output_type": "stream",
     "text": [
      "Order is:  (3, 4)\n"
     ]
    }
   ],
   "source": [
    "# Shape\n",
    "\n",
    "import numpy as np\n",
    "\n",
    "arr=np.array([[1,2,3,4],[2,3,4,5],[3,4,5,6]])\n",
    "print(\"Order is: \",arr.shape)"
   ]
  },
  {
   "cell_type": "code",
   "execution_count": 44,
   "id": "af8cf1bd",
   "metadata": {},
   "outputs": [
    {
     "name": "stdout",
     "output_type": "stream",
     "text": [
      "[1 2 3]\n",
      "[4 2 3]\n",
      "[4 5 3]\n",
      "[4 5 6]\n"
     ]
    }
   ],
   "source": [
    "# 3*4\n",
    "# 6*2\n",
    "#4*3\n",
    "\n",
    "# arr=arr.reshape(6,2)\n",
    "arr=arr.reshape(4,3)\n",
    "# print(arr)\n",
    "for x in arr:\n",
    "    print(x)"
   ]
  },
  {
   "cell_type": "code",
   "execution_count": 47,
   "id": "6060d421",
   "metadata": {},
   "outputs": [
    {
     "name": "stdout",
     "output_type": "stream",
     "text": [
      "[[1. 0. 0.]\n",
      " [0. 1. 0.]\n",
      " [0. 0. 1.]]\n"
     ]
    }
   ],
   "source": [
    "# Creating an identity matrix\n",
    "\n",
    "id=np.eye(3)\n",
    "print(id)"
   ]
  },
  {
   "cell_type": "code",
   "execution_count": 52,
   "id": "e46516b1",
   "metadata": {},
   "outputs": [
    {
     "name": "stdout",
     "output_type": "stream",
     "text": [
      "[-1.00000000e+00 -9.00000000e-01 -8.00000000e-01 -7.00000000e-01\n",
      " -6.00000000e-01 -5.00000000e-01 -4.00000000e-01 -3.00000000e-01\n",
      " -2.00000000e-01 -1.00000000e-01 -2.22044605e-16  1.00000000e-01\n",
      "  2.00000000e-01  3.00000000e-01  4.00000000e-01  5.00000000e-01\n",
      "  6.00000000e-01  7.00000000e-01  8.00000000e-01  9.00000000e-01]\n"
     ]
    }
   ],
   "source": [
    "# arange()  function\n",
    "# x=np.arange(1,10)\n",
    "# x=np.arange(1,10,2)\n",
    "x=np.arange(-1,1,0.1)\n",
    "print(x)"
   ]
  },
  {
   "cell_type": "code",
   "execution_count": 57,
   "id": "f931447d",
   "metadata": {},
   "outputs": [
    {
     "name": "stdout",
     "output_type": "stream",
     "text": [
      "[ 1.          1.18367347  1.36734694  1.55102041  1.73469388  1.91836735\n",
      "  2.10204082  2.28571429  2.46938776  2.65306122  2.83673469  3.02040816\n",
      "  3.20408163  3.3877551   3.57142857  3.75510204  3.93877551  4.12244898\n",
      "  4.30612245  4.48979592  4.67346939  4.85714286  5.04081633  5.2244898\n",
      "  5.40816327  5.59183673  5.7755102   5.95918367  6.14285714  6.32653061\n",
      "  6.51020408  6.69387755  6.87755102  7.06122449  7.24489796  7.42857143\n",
      "  7.6122449   7.79591837  7.97959184  8.16326531  8.34693878  8.53061224\n",
      "  8.71428571  8.89795918  9.08163265  9.26530612  9.44897959  9.63265306\n",
      "  9.81632653 10.        ]\n"
     ]
    }
   ],
   "source": [
    "# linspace():\n",
    "# Return evenly spaced numbers over a specified interval\n",
    "y=np.linspace(1,10)\n",
    "print(y)\n"
   ]
  },
  {
   "cell_type": "code",
   "execution_count": 60,
   "id": "318c82d2",
   "metadata": {},
   "outputs": [
    {
     "name": "stdout",
     "output_type": "stream",
     "text": [
      "[0.47833917 0.54962937 0.45733353 0.81404153 0.65489616]\n"
     ]
    }
   ],
   "source": [
    "# Random arrays\n",
    "# [0,1]\n",
    "import numpy as np\n",
    "\n",
    "x=np.random.rand(5)\n",
    "print(x)"
   ]
  },
  {
   "cell_type": "code",
   "execution_count": 62,
   "id": "714ffe68",
   "metadata": {},
   "outputs": [
    {
     "name": "stdout",
     "output_type": "stream",
     "text": [
      "[[0.34434393 0.8947337  0.53918797 0.49078382]\n",
      " [0.74464765 0.70318436 0.72252013 0.4600337 ]\n",
      " [0.50991923 0.87141089 0.96537625 0.33096149]]\n"
     ]
    }
   ],
   "source": [
    "import numpy as np\n",
    "x=np.random.rand(3,4)\n",
    "print(x)"
   ]
  },
  {
   "cell_type": "code",
   "execution_count": 66,
   "id": "5e4cc9d1",
   "metadata": {},
   "outputs": [
    {
     "name": "stdout",
     "output_type": "stream",
     "text": [
      "[14  9 83 35 19]\n",
      "[68 30 59 30 75]\n",
      "[75 37  6 40  8]\n"
     ]
    }
   ],
   "source": [
    "# Generate random matrices in integer \n",
    "import numpy as np\n",
    "\n",
    "x=np.random.randint(100,size=(3,5))\n",
    "# print(x)\n",
    "for vals in x:\n",
    "    print(vals)"
   ]
  },
  {
   "cell_type": "code",
   "execution_count": 70,
   "id": "cebe642f",
   "metadata": {},
   "outputs": [
    {
     "name": "stdout",
     "output_type": "stream",
     "text": [
      "[[1 0 0 0]\n",
      " [0 2 0 0]\n",
      " [0 0 3 0]\n",
      " [0 0 0 4]]\n"
     ]
    }
   ],
   "source": [
    "# Creating a diagonal matrix\n",
    "\n",
    "x=np.diag([1,2,3,4])\n",
    "print(x)"
   ]
  },
  {
   "cell_type": "code",
   "execution_count": 72,
   "id": "0edbe8ff",
   "metadata": {},
   "outputs": [
    {
     "name": "stdout",
     "output_type": "stream",
     "text": [
      "Original matrix;  [[1 3 5]\n",
      " [2 5 7]\n",
      " [5 7 9]]\n",
      "Flatten Array:  [1 3 5 2 5 7 5 7 9]\n"
     ]
    }
   ],
   "source": [
    "# Flatten matrix:\n",
    "# Flatten is a simple method to transform a matrix\n",
    "# into a one-dimentional array\n",
    "\n",
    "import numpy as np\n",
    "\n",
    "arr=np.array([[1,3,5],[2,5,7],[5,7,9]])\n",
    "print(\"Original matrix; \", arr)\n",
    "print(\"Flatten Array: \",arr.flatten())"
   ]
  },
  {
   "cell_type": "code",
   "execution_count": 74,
   "id": "1cc39b4d",
   "metadata": {},
   "outputs": [
    {
     "name": "stdout",
     "output_type": "stream",
     "text": [
      "Original matrix;  [[1 3 5]\n",
      " [2 5 7]\n",
      " [5 7 9]]\n",
      "Trace of given matrix:  15\n",
      "Trace 15\n"
     ]
    }
   ],
   "source": [
    "# Trace of given matrix\n",
    "\n",
    "import numpy as np\n",
    "\n",
    "arr=np.array([[1,3,5],[2,5,7],[5,7,9]])\n",
    "\n",
    "print(\"Original matrix; \", arr)\n",
    "\n",
    "# Compute trace of matring\n",
    "print(\"Trace of given matrix: \",arr.trace())\n",
    "\n",
    "print(\"Trace:\", sum(arr.diagonal()))"
   ]
  },
  {
   "cell_type": "code",
   "execution_count": 75,
   "id": "e7e691f2",
   "metadata": {},
   "outputs": [
    {
     "name": "stdout",
     "output_type": "stream",
     "text": [
      "Original MatriX:  [[1 3 5]\n",
      " [2 5 7]\n",
      " [5 7 9]]\n",
      "Transpose of a matrix:  [[1 2 5]\n",
      " [3 5 7]\n",
      " [5 7 9]]\n"
     ]
    }
   ],
   "source": [
    "# Finding transpose of a matrix\n",
    "\n",
    "import numpy as np\n",
    "\n",
    "arr=np.array([[1,3,5],[2,5,7],[5,7,9]])\n",
    "\n",
    "print(\"Original MatriX: \",arr)\n",
    "print(\"Transpose of a matrix: \", arr.transpose())"
   ]
  },
  {
   "cell_type": "markdown",
   "id": "42825227",
   "metadata": {},
   "source": [
    "# Q.no.1 Write a NumPy program that creates a 3x3 matrix of random integers between 0 and 9 and prints the maximum and minimum values of the matrix."
   ]
  },
  {
   "cell_type": "code",
   "execution_count": 2,
   "id": "193f765e",
   "metadata": {},
   "outputs": [
    {
     "name": "stdout",
     "output_type": "stream",
     "text": [
      "[[8 9 1]\n",
      " [0 6 1]\n",
      " [6 7 7]]\n",
      "Maximum value: 9\n",
      "Minimum value: 0\n"
     ]
    }
   ],
   "source": [
    "import numpy as np\n",
    "\n",
    "mat=np.random.randint(0,10,size=(3,3))\n",
    "print(mat)\n",
    "\n",
    "max_val = np.max(mat)\n",
    "min_val = np.min(mat)\n",
    "\n",
    "print(f\"Maximum value: {max_val}\")\n",
    "print(f\"Minimum value: {min_val}\")"
   ]
  },
  {
   "cell_type": "markdown",
   "id": "83524e55",
   "metadata": {},
   "source": [
    "# 2. Write a NumPy function that accepts two 1-D arrays of equal length and returns a new array containing the product of the corresponding elements in the input arrays."
   ]
  },
  {
   "cell_type": "code",
   "execution_count": 3,
   "id": "a8d1fc4d",
   "metadata": {},
   "outputs": [
    {
     "name": "stdout",
     "output_type": "stream",
     "text": [
      "multiple product: [ 2 12 30 56 90]\n"
     ]
    }
   ],
   "source": [
    "import numpy as np\n",
    "\n",
    "def mul(arr1, arr2):\n",
    "    if len(a1) != len(a2):\n",
    "        raise ValueError(\"Arrays must have equal length\")\n",
    "    \n",
    "    return np.array(a1) * np.array(a2)\n",
    "\n",
    "\n",
    "a1 = np.array([1, 3, 5, 7, 9])\n",
    "a2 = np.array([2, 4, 6, 8, 10])\n",
    "\n",
    "new= mul(a1, a2)\n",
    "print(\"multiple product:\", new)\n"
   ]
  },
  {
   "cell_type": "markdown",
   "id": "001dcd4b",
   "metadata": {},
   "source": [
    "# 3. Write a NumPy program that creates a 5x5 identity matrix and replaces the diagonal elements with random integers between 0 and 9."
   ]
  },
  {
   "cell_type": "code",
   "execution_count": 5,
   "id": "74871396",
   "metadata": {},
   "outputs": [
    {
     "name": "stdout",
     "output_type": "stream",
     "text": [
      "[[9. 0. 0. 0. 0.]\n",
      " [0. 3. 0. 0. 0.]\n",
      " [0. 0. 1. 0. 0.]\n",
      " [0. 0. 0. 0. 0.]\n",
      " [0. 0. 0. 0. 7.]]\n"
     ]
    }
   ],
   "source": [
    "import numpy as np\n",
    "arr=np.eye(5)\n",
    "arr\n",
    "\n",
    "random_integers=np.random.randint(0, 10, size=5)\n",
    "\n",
    "np.fill_diagonal(arr, random_integers)\n",
    "\n",
    "print(arr)"
   ]
  },
  {
   "cell_type": "code",
   "execution_count": null,
   "id": "58ea9973",
   "metadata": {},
   "outputs": [],
   "source": []
  },
  {
   "cell_type": "code",
   "execution_count": null,
   "id": "5a90ca38",
   "metadata": {},
   "outputs": [],
   "source": []
  },
  {
   "cell_type": "code",
   "execution_count": null,
   "id": "e0e980a7",
   "metadata": {},
   "outputs": [],
   "source": []
  }
 ],
 "metadata": {
  "kernelspec": {
   "display_name": "Python 3 (ipykernel)",
   "language": "python",
   "name": "python3"
  },
  "language_info": {
   "codemirror_mode": {
    "name": "ipython",
    "version": 3
   },
   "file_extension": ".py",
   "mimetype": "text/x-python",
   "name": "python",
   "nbconvert_exporter": "python",
   "pygments_lexer": "ipython3",
   "version": "3.9.12"
  }
 },
 "nbformat": 4,
 "nbformat_minor": 5
}
