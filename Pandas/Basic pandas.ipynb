{
 "cells": [
  {
   "cell_type": "code",
   "execution_count": 8,
   "id": "b95df44b",
   "metadata": {},
   "outputs": [
    {
     "name": "stdout",
     "output_type": "stream",
     "text": [
      "a    1.25\n",
      "b    1.55\n",
      "c    1.75\n",
      "d    2.25\n",
      "e    2.55\n",
      "f    2.75\n",
      "dtype: float64\n",
      "  \n",
      "a    6.25\n",
      "b    6.55\n",
      "c    6.75\n",
      "d    7.25\n",
      "e    7.55\n",
      "f    7.75\n",
      "dtype: float64\n"
     ]
    }
   ],
   "source": [
    "# Working with series in pandas\n",
    "\n",
    "import pandas as pd\n",
    "\n",
    "ser=pd.Series([1.25,1.55,1.75,2.25,2.55,2.75], index=['a','b','c','d','e','f'])\n",
    "print(ser)\n",
    "\n",
    "ser1=ser+5\n",
    "print(\"  \")\n",
    "print(ser1)"
   ]
  },
  {
   "cell_type": "code",
   "execution_count": 9,
   "id": "93c1e1ec",
   "metadata": {},
   "outputs": [
    {
     "name": "stdout",
     "output_type": "stream",
     "text": [
      "a    6.25\n",
      "b    6.55\n",
      "c    6.75\n",
      "d    7.25\n",
      "e    7.55\n",
      "f    7.75\n",
      "dtype: float64\n"
     ]
    }
   ],
   "source": [
    "# filering series data\n",
    "ser3=ser1[ser1>2]\n",
    "print(ser3)"
   ]
  },
  {
   "cell_type": "code",
   "execution_count": 10,
   "id": "3610978a",
   "metadata": {},
   "outputs": [],
   "source": [
    "# Comparing series in pandas along with numpy\n",
    "\n",
    "import numpy as np\n",
    "import pandas as pd\n",
    "arr=np.array([10,20,30,40,50])\n",
    "\n",
    "s=pd.Series(arr)"
   ]
  },
  {
   "cell_type": "code",
   "execution_count": 11,
   "id": "c77d0561",
   "metadata": {},
   "outputs": [
    {
     "name": "stdout",
     "output_type": "stream",
     "text": [
      "0    10\n",
      "1    20\n",
      "2    30\n",
      "3    40\n",
      "4    50\n",
      "dtype: int32\n"
     ]
    }
   ],
   "source": [
    "print(s)"
   ]
  },
  {
   "cell_type": "code",
   "execution_count": 12,
   "id": "f0a96964",
   "metadata": {},
   "outputs": [],
   "source": [
    "s1=np.sqrt(s)"
   ]
  },
  {
   "cell_type": "code",
   "execution_count": 13,
   "id": "5c8242bd",
   "metadata": {},
   "outputs": [
    {
     "name": "stdout",
     "output_type": "stream",
     "text": [
      "0    3.162278\n",
      "1    4.472136\n",
      "2    5.477226\n",
      "3    6.324555\n",
      "4    7.071068\n",
      "dtype: float64\n"
     ]
    }
   ],
   "source": [
    "print(s1)"
   ]
  },
  {
   "cell_type": "code",
   "execution_count": 14,
   "id": "3b53781b",
   "metadata": {},
   "outputs": [
    {
     "name": "stdout",
     "output_type": "stream",
     "text": [
      "Series is:  0    10\n",
      "1    20\n",
      "2    30\n",
      "3    40\n",
      "4    50\n",
      "5    60\n",
      "dtype: int64\n",
      "Size of series is:  6\n"
     ]
    }
   ],
   "source": [
    "# Finding number of elements in a series\n",
    "import pandas as pd\n",
    "s1=pd.Series([10,20,30,40,50,60])\n",
    "print(\"Series is: \",s1)\n",
    "print(\"Size of series is: \", s1.size)"
   ]
  },
  {
   "cell_type": "code",
   "execution_count": 15,
   "id": "7b7a6d08",
   "metadata": {},
   "outputs": [
    {
     "name": "stdout",
     "output_type": "stream",
     "text": [
      "35.0\n"
     ]
    }
   ],
   "source": [
    "# Finding average of elements in a series\n",
    "import pandas as pd\n",
    "\n",
    "s1=pd.Series([10,20,30,40,50,60])\n",
    "\n",
    "print(s1.mean())"
   ]
  },
  {
   "cell_type": "code",
   "execution_count": 16,
   "id": "04f71767",
   "metadata": {},
   "outputs": [
    {
     "name": "stdout",
     "output_type": "stream",
     "text": [
      "60\n"
     ]
    }
   ],
   "source": [
    "print(s1.max())"
   ]
  },
  {
   "cell_type": "code",
   "execution_count": 17,
   "id": "75073694",
   "metadata": {},
   "outputs": [
    {
     "name": "stdout",
     "output_type": "stream",
     "text": [
      "10\n"
     ]
    }
   ],
   "source": [
    "print(s1.min())"
   ]
  },
  {
   "cell_type": "code",
   "execution_count": 18,
   "id": "0c9d4dd6",
   "metadata": {},
   "outputs": [
    {
     "name": "stdout",
     "output_type": "stream",
     "text": [
      "Series Before Sorting: 0    40\n",
      "1    11\n",
      "2    32\n",
      "3    45\n",
      "4    60\n",
      "5    30\n",
      "6    20\n",
      "7    25\n",
      "dtype: int64\n",
      "Series After Sorting:  1    11\n",
      "6    20\n",
      "7    25\n",
      "5    30\n",
      "2    32\n",
      "0    40\n",
      "3    45\n",
      "4    60\n",
      "dtype: int64\n",
      "Series After Sorting:  4    60\n",
      "3    45\n",
      "0    40\n",
      "2    32\n",
      "5    30\n",
      "7    25\n",
      "6    20\n",
      "1    11\n",
      "dtype: int64\n"
     ]
    }
   ],
   "source": [
    "# Sorting a series\n",
    "ser=pd.Series([40,11,32,45,60,30,20,25])\n",
    "print(\"Series Before Sorting:\", ser)\n",
    "\n",
    "print(\"Series After Sorting: \",ser.sort_values())\n",
    "print(\"Series After Sorting: \",ser.sort_values(ascending=False))"
   ]
  },
  {
   "cell_type": "code",
   "execution_count": 19,
   "id": "4c848f29",
   "metadata": {},
   "outputs": [
    {
     "name": "stdout",
     "output_type": "stream",
     "text": [
      "Unique values: [10 20 30]\n"
     ]
    }
   ],
   "source": [
    "# Displaying Unique values in a series\n",
    "\n",
    "import pandas as pd\n",
    "\n",
    "# unique\n",
    "s1=pd.Series([10,20,30,20,10,20])\n",
    "print(\"Unique values:\",s1.unique())"
   ]
  },
  {
   "cell_type": "code",
   "execution_count": 20,
   "id": "e8096fa4",
   "metadata": {},
   "outputs": [
    {
     "name": "stdout",
     "output_type": "stream",
     "text": [
      "No_of unique values: 3\n"
     ]
    }
   ],
   "source": [
    "# nunique\n",
    "print(\"No_of unique values:\",s1.nunique())"
   ]
  },
  {
   "cell_type": "code",
   "execution_count": 21,
   "id": "90a8d78d",
   "metadata": {},
   "outputs": [],
   "source": [
    "# Stastistics summary a series\n",
    "# describe()"
   ]
  },
  {
   "cell_type": "code",
   "execution_count": 22,
   "id": "b4fd1b9b",
   "metadata": {
    "scrolled": true
   },
   "outputs": [
    {
     "name": "stdout",
     "output_type": "stream",
     "text": [
      "Summary Statistics: \n",
      "  count     6.000000\n",
      "mean     35.000000\n",
      "std      18.708287\n",
      "min      10.000000\n",
      "25%      22.500000\n",
      "50%      35.000000\n",
      "75%      47.500000\n",
      "max      60.000000\n",
      "dtype: float64\n"
     ]
    }
   ],
   "source": [
    "import pandas as pd\n",
    "s1=pd.Series([10,20,30,40,50,60])\n",
    "print(\"Summary Statistics: \\n \", s1.describe())\n"
   ]
  },
  {
   "cell_type": "code",
   "execution_count": 27,
   "id": "a150a9b2",
   "metadata": {},
   "outputs": [
    {
     "name": "stdout",
     "output_type": "stream",
     "text": [
      "Average grade for all students: 85.0\n",
      "Average grade for nan: 90.0\n",
      "Average grade for nan: 85.0\n",
      "Average grade for nan: 75.0\n",
      "Average grade for nan: 95.0\n",
      "Average grade for nan: 80.0\n"
     ]
    }
   ],
   "source": [
    "'''\n",
    "Write a NumPy program that reads a CSV file containing data about a group of students (ID, name, grade) and computes the average grade for each student.\n",
    "\n",
    "Create the CSV file with the following data :\n",
    "\n",
    "ID,Name,Grade\n",
    "\n",
    "1,Alice,90\n",
    "\n",
    "2,Bob,85\n",
    "\n",
    "3,Charlie,75\n",
    "\n",
    "4,Dave,95\n",
    "\n",
    "5,Eve,80\n",
    "'''\n",
    "\n",
    "import numpy as np\n",
    "\n",
    "data = np.genfromtxt('students.csv', delimiter=',', names=True)\n",
    "\n",
    "grades = data['GRADE']\n",
    "\n",
    "average_grade = np.mean(grades)\n",
    "print(\"Average grade for all students:\", average_grade)\n",
    "\n",
    "unique_ids = np.unique(data['ID'])\n",
    "for student_id in unique_ids:\n",
    "    student_grades = grades[data['ID'] == student_id]\n",
    "    student_average_grade = np.mean(student_grades)\n",
    "    student_name = data['NAME'][data['ID'] == student_id][0]\n",
    "    print(f\"Average grade for {student_name}: {student_average_grade}\")\n",
    "\n",
    "\n"
   ]
  },
  {
   "cell_type": "code",
   "execution_count": null,
   "id": "698d5c70",
   "metadata": {},
   "outputs": [],
   "source": []
  }
 ],
 "metadata": {
  "kernelspec": {
   "display_name": "Python 3 (ipykernel)",
   "language": "python",
   "name": "python3"
  },
  "language_info": {
   "codemirror_mode": {
    "name": "ipython",
    "version": 3
   },
   "file_extension": ".py",
   "mimetype": "text/x-python",
   "name": "python",
   "nbconvert_exporter": "python",
   "pygments_lexer": "ipython3",
   "version": "3.9.12"
  }
 },
 "nbformat": 4,
 "nbformat_minor": 5
}
