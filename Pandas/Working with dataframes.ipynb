{
 "cells": [
  {
   "cell_type": "code",
   "execution_count": 1,
   "id": "353ad48f",
   "metadata": {},
   "outputs": [
    {
     "name": "stdout",
     "output_type": "stream",
     "text": [
      "Empty DataFrame\n",
      "Columns: []\n",
      "Index: []\n"
     ]
    }
   ],
   "source": [
    "# Create an empty dataframe\n",
    "import pandas as pd \n",
    "df=pd.DataFrame()\n",
    "print(df)"
   ]
  },
  {
   "cell_type": "code",
   "execution_count": 5,
   "id": "3e951784",
   "metadata": {},
   "outputs": [
    {
     "name": "stdout",
     "output_type": "stream",
     "text": [
      "    name Team\n",
      "0  Rohit   MI\n",
      "1  Virat  RCB\n",
      "2  Dhoni  CSK\n"
     ]
    }
   ],
   "source": [
    "# Create dataframes from series\n",
    "\n",
    "import pandas as pd \n",
    "# s=pd.Series(['a','b','c','d'])\n",
    "# df=pd.DataFrame(s)\n",
    "name=pd.Series(['Rohit','Virat','Dhoni'])\n",
    "team=pd.Series(['MI','RCB','CSK'])\n",
    "dic={'name':name,'Team':team}\n",
    "df=pd.DataFrame(dic)\n",
    "print(df)"
   ]
  },
  {
   "cell_type": "code",
   "execution_count": 6,
   "id": "1a745274",
   "metadata": {},
   "outputs": [
    {
     "name": "stdout",
     "output_type": "stream",
     "text": [
      "    Name    SirName\n",
      "0  Virat  Tendulkar\n",
      "1  Rohit     Sharma\n",
      "2  Virat      Kohli\n"
     ]
    }
   ],
   "source": [
    "# Creating dataframe from List of dictionaries\n",
    "\n",
    "l=[{'Name':'Virat', 'SirName':'Tendulkar'},\n",
    "   {'Name':'Rohit','SirName':'Sharma'},\n",
    "   {'Name':'Virat','SirName':'Kohli'}\n",
    "  ]\n",
    "df=pd.DataFrame(l)\n",
    "print(df)"
   ]
  },
  {
   "cell_type": "code",
   "execution_count": 7,
   "id": "6d50ea05",
   "metadata": {},
   "outputs": [
    {
     "name": "stdout",
     "output_type": "stream",
     "text": [
      "\n",
      " Row Index is:  0\n",
      "\n",
      " Row Value is:  Name           Virat\n",
      "SirName    Tendulkar\n",
      "Name: 0, dtype: object\n",
      "\n",
      " Row Index is:  1\n",
      "\n",
      " Row Value is:  Name        Rohit\n",
      "SirName    Sharma\n",
      "Name: 1, dtype: object\n",
      "\n",
      " Row Index is:  2\n",
      "\n",
      " Row Value is:  Name       Virat\n",
      "SirName    Kohli\n",
      "Name: 2, dtype: object\n"
     ]
    }
   ],
   "source": [
    "# Access data row-wise and column-wise\n",
    "\n",
    "for (row_index,row_value ) in df.iterrows():\n",
    "    print(\"\\n Row Index is: \",row_index)\n",
    "    print(\"\\n Row Value is: \",row_value)"
   ]
  },
  {
   "cell_type": "code",
   "execution_count": 8,
   "id": "5942a71a",
   "metadata": {},
   "outputs": [
    {
     "name": "stdout",
     "output_type": "stream",
     "text": [
      "\n",
      " Col Index is:  Name\n",
      "\n",
      " Col Value is:  0    Virat\n",
      "1    Rohit\n",
      "2    Virat\n",
      "Name: Name, dtype: object\n",
      "\n",
      " Col Index is:  SirName\n",
      "\n",
      " Col Value is:  0    Tendulkar\n",
      "1       Sharma\n",
      "2        Kohli\n",
      "Name: SirName, dtype: object\n"
     ]
    }
   ],
   "source": [
    "for (col_index,col_value ) in df.iteritems():\n",
    "    print(\"\\n Col Index is: \",col_index)\n",
    "    print(\"\\n Col Value is: \",col_value)"
   ]
  },
  {
   "cell_type": "code",
   "execution_count": 18,
   "id": "7413fb00",
   "metadata": {},
   "outputs": [
    {
     "name": "stdout",
     "output_type": "stream",
     "text": [
      "   List1\n",
      "0     10\n",
      "1     20\n",
      "2     30\n",
      "3     40\n",
      "   List1  List2\n",
      "0     10     15\n",
      "1     20     25\n",
      "2     30     35\n",
      "3     40     45\n",
      "   List1  List2  List3\n",
      "0     10     15     25\n",
      "1     20     25     45\n",
      "2     30     35     65\n",
      "3     40     45     85\n",
      "   List1  List3\n",
      "0     10     25\n",
      "1     20     45\n",
      "2     30     65\n",
      "3     40     85\n"
     ]
    }
   ],
   "source": [
    "# Add, Rename and Delete a column\n",
    "\n",
    "import pandas as pd\n",
    "\n",
    "ser=pd.Series([10,20,30,40])\n",
    "df=pd.DataFrame(ser)\n",
    "df.columns=['List1']\n",
    "print(df)\n",
    "\n",
    "# add\n",
    "df['List2']=([15,25,35,45])\n",
    "print(df)\n",
    "\n",
    "df['List3']=df['List1']+df['List2']\n",
    "print(df)\n",
    "\n",
    "# delete\n",
    "\n",
    "# del df['List3']\n",
    "# df.pop('List3')\n",
    "# print(df)\n",
    "\n",
    "\n",
    "# Delete the column using drop method\n",
    "# df1=df.drop('List2',axis=0)    #Delete data row-wise\n",
    "\n",
    "df1=df.drop('List2',axis=1)  #Delete data column-wise\n",
    "print(df1)\n",
    "\n"
   ]
  },
  {
   "cell_type": "code",
   "execution_count": 23,
   "id": "c3292166",
   "metadata": {},
   "outputs": [
    {
     "name": "stdout",
     "output_type": "stream",
     "text": [
      "   Name  Age\n",
      "0   Ram   26\n",
      "1  Sita   22\n",
      "2  Hari   24\n",
      "      Name  Age\n",
      "True   Ram   26\n",
      "True  Hari   24\n"
     ]
    }
   ],
   "source": [
    "# Boolean indexing in DataFrame\n",
    "\n",
    "import pandas as pd \n",
    "dic={'Name':['Ram','Sita','Hari'], 'Age':[26,22,24]}\n",
    "df=pd.DataFrame(dic)\n",
    "print(df)\n",
    "# Assigning boolean indexing\n",
    "df=pd.DataFrame(dic,index=[True,False,True])\n",
    "print(df.loc[True])\n"
   ]
  },
  {
   "cell_type": "code",
   "execution_count": 28,
   "id": "81f3fb66",
   "metadata": {},
   "outputs": [
    {
     "name": "stdout",
     "output_type": "stream",
     "text": [
      "   Name  Age\n",
      "0   Ram   26\n",
      "1  Sita   22\n",
      "2  Hari   24\n",
      "\n",
      "-------------------------\n",
      "    Name  Age\n",
      "0   Gita   23\n",
      "1  Shyam   21\n",
      "\n",
      " -------------------------\n",
      "    Name  Age\n",
      "0    Ram   26\n",
      "1   Sita   22\n",
      "2   Hari   24\n",
      "0   Gita   23\n",
      "1  Shyam   21\n"
     ]
    }
   ],
   "source": [
    "# Concatenating dataframes\n",
    "\n",
    "import pandas as pd \n",
    "dic1={'Name':['Ram','Sita','Hari'], 'Age':[26,22,24]}\n",
    "dic2={'Name':['Gita','Shyam'], 'Age':[23,21]}\n",
    "\n",
    "df1=pd.DataFrame(dic1)\n",
    "print(df1)\n",
    "print('\\n-------------------------')\n",
    "df2=pd.DataFrame(dic2)\n",
    "print(df2)\n",
    "print('\\n -------------------------')\n",
    "# Concatenation \n",
    "df3=pd.concat([df1,df2])\n",
    "print(df3)\n"
   ]
  },
  {
   "cell_type": "code",
   "execution_count": null,
   "id": "db826f3a",
   "metadata": {},
   "outputs": [],
   "source": []
  },
  {
   "cell_type": "code",
   "execution_count": null,
   "id": "d69df88a",
   "metadata": {},
   "outputs": [],
   "source": []
  },
  {
   "cell_type": "code",
   "execution_count": null,
   "id": "7ce23723",
   "metadata": {},
   "outputs": [],
   "source": []
  },
  {
   "cell_type": "code",
   "execution_count": null,
   "id": "5a6b704a",
   "metadata": {},
   "outputs": [],
   "source": []
  }
 ],
 "metadata": {
  "kernelspec": {
   "display_name": "Python 3 (ipykernel)",
   "language": "python",
   "name": "python3"
  },
  "language_info": {
   "codemirror_mode": {
    "name": "ipython",
    "version": 3
   },
   "file_extension": ".py",
   "mimetype": "text/x-python",
   "name": "python",
   "nbconvert_exporter": "python",
   "pygments_lexer": "ipython3",
   "version": "3.9.12"
  }
 },
 "nbformat": 4,
 "nbformat_minor": 5
}
