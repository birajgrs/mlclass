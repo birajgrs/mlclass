{
 "cells": [
  {
   "cell_type": "markdown",
   "id": "43761893",
   "metadata": {},
   "source": [
    "# 0D tensor/scalar"
   ]
  },
  {
   "cell_type": "code",
   "execution_count": 2,
   "id": "58980374",
   "metadata": {},
   "outputs": [],
   "source": [
    "import numpy as np"
   ]
  },
  {
   "cell_type": "code",
   "execution_count": 3,
   "id": "30024a93",
   "metadata": {},
   "outputs": [],
   "source": [
    "a=np.array(3)"
   ]
  },
  {
   "cell_type": "code",
   "execution_count": 4,
   "id": "637665a4",
   "metadata": {},
   "outputs": [
    {
     "data": {
      "text/plain": [
       "array(3)"
      ]
     },
     "execution_count": 4,
     "metadata": {},
     "output_type": "execute_result"
    }
   ],
   "source": [
    "a"
   ]
  },
  {
   "cell_type": "code",
   "execution_count": 5,
   "id": "f6a1e7c5",
   "metadata": {},
   "outputs": [
    {
     "data": {
      "text/plain": [
       "0"
      ]
     },
     "execution_count": 5,
     "metadata": {},
     "output_type": "execute_result"
    }
   ],
   "source": [
    "a.ndim"
   ]
  },
  {
   "cell_type": "markdown",
   "id": "79cf4630",
   "metadata": {},
   "source": [
    "# 1D tensor/vector"
   ]
  },
  {
   "cell_type": "code",
   "execution_count": 8,
   "id": "f479c74d",
   "metadata": {},
   "outputs": [],
   "source": [
    "a=np.array([1,2,3,4])"
   ]
  },
  {
   "cell_type": "code",
   "execution_count": 9,
   "id": "721cd857",
   "metadata": {},
   "outputs": [
    {
     "data": {
      "text/plain": [
       "array([1, 2, 3, 4])"
      ]
     },
     "execution_count": 9,
     "metadata": {},
     "output_type": "execute_result"
    }
   ],
   "source": [
    "a"
   ]
  },
  {
   "cell_type": "code",
   "execution_count": 10,
   "id": "a6e4b170",
   "metadata": {},
   "outputs": [
    {
     "data": {
      "text/plain": [
       "1"
      ]
     },
     "execution_count": 10,
     "metadata": {},
     "output_type": "execute_result"
    }
   ],
   "source": [
    "a.ndim"
   ]
  },
  {
   "cell_type": "markdown",
   "id": "2cce5e21",
   "metadata": {},
   "source": [
    "# 2D tensor/ Metrices"
   ]
  },
  {
   "cell_type": "code",
   "execution_count": 11,
   "id": "78c756d0",
   "metadata": {},
   "outputs": [],
   "source": [
    "a=np.array([[1,2,3],[3,4,5],[5,6,7]])"
   ]
  },
  {
   "cell_type": "code",
   "execution_count": 12,
   "id": "f291bfe2",
   "metadata": {},
   "outputs": [
    {
     "data": {
      "text/plain": [
       "array([[1, 2, 3],\n",
       "       [3, 4, 5],\n",
       "       [5, 6, 7]])"
      ]
     },
     "execution_count": 12,
     "metadata": {},
     "output_type": "execute_result"
    }
   ],
   "source": [
    "a"
   ]
  },
  {
   "cell_type": "code",
   "execution_count": 13,
   "id": "79dcbe8b",
   "metadata": {},
   "outputs": [
    {
     "data": {
      "text/plain": [
       "2"
      ]
     },
     "execution_count": 13,
     "metadata": {},
     "output_type": "execute_result"
    }
   ],
   "source": [
    "a.ndim"
   ]
  },
  {
   "cell_type": "markdown",
   "id": "9ff0516a",
   "metadata": {},
   "source": [
    "# 3D tensor"
   ]
  },
  {
   "cell_type": "code",
   "execution_count": 14,
   "id": "80230a07",
   "metadata": {},
   "outputs": [
    {
     "name": "stdout",
     "output_type": "stream",
     "text": [
      "3D Tensor:\n",
      "[[[1 2 3]\n",
      "  [3 4 5]\n",
      "  [5 6 7]]]\n",
      "Shape of the 3D Tensor: (1, 3, 3)\n"
     ]
    }
   ],
   "source": [
    "\n",
    "a = np.array([[1, 2, 3],\n",
    "              [3, 4, 5],\n",
    "              [5, 6, 7]])\n"
   ]
  },
  {
   "cell_type": "code",
   "execution_count": 15,
   "id": "144cb8e9",
   "metadata": {},
   "outputs": [
    {
     "data": {
      "text/plain": [
       "array([[1, 2, 3],\n",
       "       [3, 4, 5],\n",
       "       [5, 6, 7]])"
      ]
     },
     "execution_count": 15,
     "metadata": {},
     "output_type": "execute_result"
    }
   ],
   "source": [
    "a"
   ]
  },
  {
   "cell_type": "code",
   "execution_count": 16,
   "id": "3314bee1",
   "metadata": {},
   "outputs": [
    {
     "data": {
      "text/plain": [
       "2"
      ]
     },
     "execution_count": 16,
     "metadata": {},
     "output_type": "execute_result"
    }
   ],
   "source": [
    "a.ndim"
   ]
  },
  {
   "cell_type": "code",
   "execution_count": null,
   "id": "b4c44c54",
   "metadata": {},
   "outputs": [],
   "source": []
  }
 ],
 "metadata": {
  "kernelspec": {
   "display_name": "Python 3 (ipykernel)",
   "language": "python",
   "name": "python3"
  },
  "language_info": {
   "codemirror_mode": {
    "name": "ipython",
    "version": 3
   },
   "file_extension": ".py",
   "mimetype": "text/x-python",
   "name": "python",
   "nbconvert_exporter": "python",
   "pygments_lexer": "ipython3",
   "version": "3.9.12"
  }
 },
 "nbformat": 4,
 "nbformat_minor": 5
}
