{
 "cells": [
  {
   "cell_type": "code",
   "execution_count": 1,
   "id": "accd5c4f",
   "metadata": {},
   "outputs": [],
   "source": [
    "import re\n",
    "import urllib.request\n",
    "import csv"
   ]
  },
  {
   "cell_type": "code",
   "execution_count": 2,
   "id": "f570de0a",
   "metadata": {},
   "outputs": [],
   "source": [
    "# Function to extract job details from HTML using regular expressions\n",
    "def extract_job_details(html_content):\n",
    "    jobs = []\n",
    "    job_pattern = re.compile(r'<div class=\"card\">.*?<h2 class=\"job-title\">(.*?)</h2>.*?<h3 class=\"job-company\">(.*?)</h3>.*?<span class=\"location\">(.*?)</span>', re.DOTALL)\n",
    "    job_matches = job_pattern.findall(html_content)\n",
    "    for match in job_matches:\n",
    "        job_title, company_name, location = match\n",
    "        jobs.append([job_title.strip(), company_name.strip(), location.strip()])\n",
    "    return jobs"
   ]
  },
  {
   "cell_type": "code",
   "execution_count": 3,
   "id": "4f2ec2c4",
   "metadata": {},
   "outputs": [],
   "source": [
    "# Function to write job details into a CSV file\n",
    "def write_to_csv(jobs, filename):\n",
    "    with open(filename, 'w', newline='', encoding='utf-8') as csvfile:\n",
    "        fieldnames = ['Job Title', 'Company Name', 'Location']\n",
    "        writer = csv.DictWriter(csvfile, fieldnames=fieldnames)\n",
    "        writer.writeheader()\n",
    "        for job in jobs:\n",
    "            writer.writerow({'Job Title': job[0], 'Company Name': job[1], 'Location': job[2]})\n"
   ]
  },
  {
   "cell_type": "code",
   "execution_count": 4,
   "id": "e9e1c4cc",
   "metadata": {},
   "outputs": [],
   "source": [
    "# URL of the website\n",
    "url = 'https://www.jobsnepal.com/'\n"
   ]
  },
  {
   "cell_type": "code",
   "execution_count": 5,
   "id": "fbb32de6",
   "metadata": {},
   "outputs": [
    {
     "ename": "NameError",
     "evalue": "name 'requests' is not defined",
     "output_type": "error",
     "traceback": [
      "\u001b[1;31m---------------------------------------------------------------------------\u001b[0m",
      "\u001b[1;31mNameError\u001b[0m                                 Traceback (most recent call last)",
      "Cell \u001b[1;32mIn[5], line 2\u001b[0m\n\u001b[0;32m      1\u001b[0m \u001b[38;5;66;03m# Fetch HTML content\u001b[39;00m\n\u001b[1;32m----> 2\u001b[0m response \u001b[38;5;241m=\u001b[39m requests\u001b[38;5;241m.\u001b[39mget(url)\n\u001b[0;32m      3\u001b[0m \u001b[38;5;28;01mif\u001b[39;00m response\u001b[38;5;241m.\u001b[39mstatus_code \u001b[38;5;241m==\u001b[39m \u001b[38;5;241m200\u001b[39m:\n\u001b[0;32m      4\u001b[0m     html_content \u001b[38;5;241m=\u001b[39m response\u001b[38;5;241m.\u001b[39mtext\n",
      "\u001b[1;31mNameError\u001b[0m: name 'requests' is not defined"
     ]
    }
   ],
   "source": [
    "# Fetch HTML content\n",
    "response = requests.get(url)\n",
    "if response.status_code == 200:\n",
    "    html_content = response.text\n",
    "\n",
    "    # Extract job details\n",
    "    jobs = extract_job_details(html_content)\n",
    "\n",
    "    # Write job details to CSV\n",
    "    write_to_csv(jobs, 'jobs.csv')\n",
    "    print(\"CSV file created successfully!\")\n",
    "else:\n",
    "    print(\"Failed to fetch HTML content.\")"
   ]
  },
  {
   "cell_type": "code",
   "execution_count": null,
   "id": "e389a335",
   "metadata": {},
   "outputs": [],
   "source": []
  },
  {
   "cell_type": "code",
   "execution_count": null,
   "id": "553cae27",
   "metadata": {},
   "outputs": [],
   "source": [
    "\n"
   ]
  },
  {
   "cell_type": "code",
   "execution_count": null,
   "id": "1cd1d6df",
   "metadata": {},
   "outputs": [],
   "source": []
  },
  {
   "cell_type": "code",
   "execution_count": null,
   "id": "191ffd2b",
   "metadata": {},
   "outputs": [],
   "source": []
  },
  {
   "cell_type": "code",
   "execution_count": null,
   "id": "7fe80631",
   "metadata": {},
   "outputs": [],
   "source": []
  },
  {
   "cell_type": "code",
   "execution_count": null,
   "id": "e906b97d",
   "metadata": {},
   "outputs": [],
   "source": [
    "\n"
   ]
  },
  {
   "cell_type": "code",
   "execution_count": null,
   "id": "8604cb2a",
   "metadata": {},
   "outputs": [],
   "source": []
  },
  {
   "cell_type": "code",
   "execution_count": null,
   "id": "32da6ed1",
   "metadata": {},
   "outputs": [],
   "source": []
  },
  {
   "cell_type": "code",
   "execution_count": null,
   "id": "d13c63eb",
   "metadata": {},
   "outputs": [],
   "source": []
  },
  {
   "cell_type": "code",
   "execution_count": null,
   "id": "1bd8eca7",
   "metadata": {},
   "outputs": [],
   "source": []
  },
  {
   "cell_type": "code",
   "execution_count": null,
   "id": "fbc79e10",
   "metadata": {},
   "outputs": [],
   "source": []
  },
  {
   "cell_type": "code",
   "execution_count": null,
   "id": "a0c9131d",
   "metadata": {},
   "outputs": [],
   "source": []
  },
  {
   "cell_type": "code",
   "execution_count": null,
   "id": "193d9467",
   "metadata": {},
   "outputs": [],
   "source": [
    "\n"
   ]
  },
  {
   "cell_type": "code",
   "execution_count": null,
   "id": "f8c6cf2b",
   "metadata": {},
   "outputs": [],
   "source": []
  }
 ],
 "metadata": {
  "kernelspec": {
   "display_name": "Python 3 (ipykernel)",
   "language": "python",
   "name": "python3"
  },
  "language_info": {
   "codemirror_mode": {
    "name": "ipython",
    "version": 3
   },
   "file_extension": ".py",
   "mimetype": "text/x-python",
   "name": "python",
   "nbconvert_exporter": "python",
   "pygments_lexer": "ipython3",
   "version": "3.11.5"
  }
 },
 "nbformat": 4,
 "nbformat_minor": 5
}
