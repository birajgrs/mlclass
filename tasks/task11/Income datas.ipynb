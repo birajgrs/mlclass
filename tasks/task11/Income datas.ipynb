{
 "cells": [
  {
   "cell_type": "code",
   "execution_count": 2,
   "id": "ae1da625",
   "metadata": {},
   "outputs": [],
   "source": [
    "active_income = [\n",
    "    \"Salary\",\n",
    "    \"Hourly Wages\",\n",
    "    \"Freelance Work\",\n",
    "    \"Consulting\",\n",
    "    \"Sales Commissions\",\n",
    "    \"Contract Work\",\n",
    "    \"Teaching/Tutoring\",\n",
    "    \"Performing Arts\",\n",
    "    \"Overtime Pay\",\n",
    "    \"Tips\"\n",
    "]"
   ]
  },
  {
   "cell_type": "code",
   "execution_count": 3,
   "id": "cf5ec7a1",
   "metadata": {},
   "outputs": [],
   "source": [
    "passive_income = [\n",
    "    \"Rental Income\",\n",
    "    \"Dividends from Investments\",\n",
    "    \"Interest from Savings Accounts\",\n",
    "    \"Royalties from Intellectual Property\",\n",
    "    \"Peer-to-Peer Lending\",\n",
    "    \"Affiliate Marketing\",\n",
    "    \"Ad Revenue from Websites/Blogs\",\n",
    "    \"Real Estate Crowdfunding\",\n",
    "    \"E-book Sales\",\n",
    "    \"Course Sales\"\n",
    "]"
   ]
  },
  {
   "cell_type": "code",
   "execution_count": 4,
   "id": "dfc28ec6",
   "metadata": {},
   "outputs": [],
   "source": [
    "import csv"
   ]
  },
  {
   "cell_type": "code",
   "execution_count": 5,
   "id": "a9aad3d7",
   "metadata": {},
   "outputs": [],
   "source": [
    "fp=\"income_sources.csv\""
   ]
  },
  {
   "cell_type": "code",
   "execution_count": 6,
   "id": "50f87b5a",
   "metadata": {},
   "outputs": [
    {
     "name": "stdout",
     "output_type": "stream",
     "text": [
      "Lists saved to income_sources.csv\n"
     ]
    }
   ],
   "source": [
    "with open(fp, 'w', newline='') as csvfile:\n",
    "    writer = csv.writer(csvfile)\n",
    "    writer.writerow([\"Active Income Sources\", \"Passive Income Sources\"])\n",
    "    \n",
    "    max_len = max(len(active_income), len(passive_income))\n",
    "    \n",
    "    for i in range(max_len):\n",
    "        active = active_income[i] if i < len(active_income) else \"\"\n",
    "        passive = passive_income[i] if i < len(passive_income) else \"\"\n",
    "        writer.writerow([active, passive])\n",
    "\n",
    "print(f\"Lists saved to {fp}\")"
   ]
  },
  {
   "cell_type": "code",
   "execution_count": null,
   "id": "b5239f92",
   "metadata": {},
   "outputs": [],
   "source": []
  }
 ],
 "metadata": {
  "kernelspec": {
   "display_name": "Python 3 (ipykernel)",
   "language": "python",
   "name": "python3"
  },
  "language_info": {
   "codemirror_mode": {
    "name": "ipython",
    "version": 3
   },
   "file_extension": ".py",
   "mimetype": "text/x-python",
   "name": "python",
   "nbconvert_exporter": "python",
   "pygments_lexer": "ipython3",
   "version": "3.11.5"
  }
 },
 "nbformat": 4,
 "nbformat_minor": 5
}
