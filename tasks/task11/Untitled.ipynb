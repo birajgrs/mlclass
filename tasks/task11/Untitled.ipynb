{
 "cells": [
  {
   "cell_type": "code",
   "execution_count": 19,
   "id": "70a84934",
   "metadata": {},
   "outputs": [],
   "source": [
    "import re\n",
    "import csv\n",
    "from urllib import request"
   ]
  },
  {
   "cell_type": "code",
   "execution_count": 20,
   "id": "4df83b76",
   "metadata": {},
   "outputs": [],
   "source": [
    "url = \"https://merolagani.com/LatestMarket.aspx#0\"\n",
    "html_content = request.urlopen(url).read().decode('utf-8')\n"
   ]
  },
  {
   "cell_type": "code",
   "execution_count": 21,
   "id": "9c0cfbce",
   "metadata": {},
   "outputs": [],
   "source": [
    "pattern = r'<tr(?:.*?)><td>(.*?)</td><td>(.*?)</td><td(?:.*?)>(.*?)</td><td>(.*?)</td><td(?:.*?)>(.*?)</td><td(?:.*?)>(.*?)</td><td>(.*?)</td><td(?:.*?)>(.*?)</td>'\n",
    "matches = re.findall(pattern, html_content)"
   ]
  },
  {
   "cell_type": "code",
   "execution_count": 22,
   "id": "1f8f2047",
   "metadata": {},
   "outputs": [],
   "source": [
    "data = []\n",
    "for match in matches:\n",
    "    symbol = match[0]\n",
    "    ltp = match[1]\n",
    "    change = match[2]\n",
    "    high = match[3]\n",
    "    low = match[4]\n",
    "    open_val = match[5]\n",
    "    qty = match[6]\n",
    "    turnover = match[7]\n",
    "    data.append({'Symbol': symbol, 'LTP': ltp, 'Change': change, 'High': high, 'Low': low, 'Open': open_val, 'Qty': qty, 'Turnover': turnover})\n"
   ]
  },
  {
   "cell_type": "code",
   "execution_count": 23,
   "id": "0b6814ac",
   "metadata": {},
   "outputs": [
    {
     "name": "stdout",
     "output_type": "stream",
     "text": [
      "Data saved to stock_data.csv\n"
     ]
    }
   ],
   "source": [
    "\n",
    "csv_filename = \"stock_data.csv\"\n",
    "with open(csv_filename, 'w', newline='') as csvfile:\n",
    "    fieldnames = ['Symbol', 'LTP', 'Change', 'High', 'Low', 'Open', 'Qty', 'Turnover']\n",
    "    writer = csv.DictWriter(csvfile, fieldnames=fieldnames)\n",
    "    \n",
    "    writer.writeheader()\n",
    "    for row in data:\n",
    "        writer.writerow(row)\n",
    "\n",
    "print(f\"Data saved to {csv_filename}\")"
   ]
  },
  {
   "cell_type": "code",
   "execution_count": null,
   "id": "1d6b177f",
   "metadata": {},
   "outputs": [],
   "source": []
  },
  {
   "cell_type": "code",
   "execution_count": null,
   "id": "e637663a",
   "metadata": {},
   "outputs": [],
   "source": []
  }
 ],
 "metadata": {
  "kernelspec": {
   "display_name": "Python 3 (ipykernel)",
   "language": "python",
   "name": "python3"
  },
  "language_info": {
   "codemirror_mode": {
    "name": "ipython",
    "version": 3
   },
   "file_extension": ".py",
   "mimetype": "text/x-python",
   "name": "python",
   "nbconvert_exporter": "python",
   "pygments_lexer": "ipython3",
   "version": "3.11.5"
  }
 },
 "nbformat": 4,
 "nbformat_minor": 5
}
