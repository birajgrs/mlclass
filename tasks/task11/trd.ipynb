{
 "cells": [
  {
   "cell_type": "code",
   "execution_count": 1,
   "id": "9402b578",
   "metadata": {},
   "outputs": [],
   "source": [
    "import urllib.request\n",
    "from bs4 import BeautifulSoup\n",
    "import csv"
   ]
  },
  {
   "cell_type": "code",
   "execution_count": 2,
   "id": "79d0d7ae",
   "metadata": {},
   "outputs": [],
   "source": [
    "# URL to scrape\n",
    "url = \"https://merolagani.com/LatestMarket.aspx#0\"\n",
    "\n",
    "# Fetch the HTML content\n",
    "response = urllib.request.urlopen(url)\n",
    "html_content = response.read().decode('utf-8')\n",
    "\n",
    "# Parse the HTML content using BeautifulSoup\n",
    "soup = BeautifulSoup(html_content, 'html.parser')"
   ]
  },
  {
   "cell_type": "code",
   "execution_count": 3,
   "id": "e431351e",
   "metadata": {},
   "outputs": [
    {
     "name": "stdout",
     "output_type": "stream",
     "text": [
      "Data successfully saved to market_data.csv\n"
     ]
    }
   ],
   "source": [
    "# Find the table with the specific class\n",
    "table = soup.find('table', class_='table table-hover live-trading sortable')\n",
    "\n",
    "# Check if the table exists\n",
    "if table:\n",
    "    data = []\n",
    "\n",
    "    # Extract the table header\n",
    "    headers = [th.text.strip() for th in table.find('thead').find_all('th')]\n",
    "    \n",
    "    # Extract the table rows\n",
    "    rows = table.find('tbody').find_all('tr')\n",
    "    for row in rows:\n",
    "        cells = [td.text.strip() for td in row.find_all('td')]\n",
    "        data.append(cells)\n",
    "    \n",
    "    # Save data to a CSV file\n",
    "    csv_filename = 'market_data.csv'\n",
    "    with open(csv_filename, mode='w', newline='', encoding='utf-8') as file:\n",
    "        writer = csv.writer(file)\n",
    "        # Write header\n",
    "        writer.writerow(headers)\n",
    "        # Write data rows\n",
    "        writer.writerows(data)\n",
    "\n",
    "    print(f\"Data successfully saved to {csv_filename}\")\n",
    "else:\n",
    "    print(\"No table found in the HTML content.\")"
   ]
  },
  {
   "cell_type": "code",
   "execution_count": null,
   "id": "8a290774",
   "metadata": {},
   "outputs": [],
   "source": []
  }
 ],
 "metadata": {
  "kernelspec": {
   "display_name": "Python 3 (ipykernel)",
   "language": "python",
   "name": "python3"
  },
  "language_info": {
   "codemirror_mode": {
    "name": "ipython",
    "version": 3
   },
   "file_extension": ".py",
   "mimetype": "text/x-python",
   "name": "python",
   "nbconvert_exporter": "python",
   "pygments_lexer": "ipython3",
   "version": "3.11.5"
  }
 },
 "nbformat": 4,
 "nbformat_minor": 5
}
