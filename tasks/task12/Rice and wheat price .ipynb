{
 "cells": [
  {
   "cell_type": "code",
   "execution_count": 1,
   "id": "e833c0ab",
   "metadata": {},
   "outputs": [],
   "source": [
    "import csv\n",
    "from datetime import datetime"
   ]
  },
  {
   "cell_type": "code",
   "execution_count": 2,
   "id": "267b16d9",
   "metadata": {},
   "outputs": [],
   "source": [
    "rice_wheat_prices = [\n",
    "    {\"Date\": \"2019-01-01\", \"Rice_Price\": 40, \"Wheat_Price\": 30},\n",
    "    {\"Date\": \"2019-06-01\", \"Rice_Price\": 42, \"Wheat_Price\": 32},\n",
    "    {\"Date\": \"2020-01-01\", \"Rice_Price\": 44, \"Wheat_Price\": 34},\n",
    "    {\"Date\": \"2020-06-01\", \"Rice_Price\": 46, \"Wheat_Price\": 36},\n",
    "    {\"Date\": \"2021-01-01\", \"Rice_Price\": 48, \"Wheat_Price\": 38},\n",
    "    {\"Date\": \"2021-06-01\", \"Rice_Price\": 50, \"Wheat_Price\": 40},\n",
    "    {\"Date\": \"2022-01-01\", \"Rice_Price\": 52, \"Wheat_Price\": 42},\n",
    "    {\"Date\": \"2022-06-01\", \"Rice_Price\": 54, \"Wheat_Price\": 44},\n",
    "    {\"Date\": \"2023-01-01\", \"Rice_Price\": 56, \"Wheat_Price\": 46},\n",
    "    {\"Date\": \"2023-06-01\", \"Rice_Price\": 58, \"Wheat_Price\": 48},\n",
    "    {\"Date\": \"2024-01-01\", \"Rice_Price\": 60, \"Wheat_Price\": 50},\n",
    "    {\"Date\": \"2024-05-31\", \"Rice_Price\": 62, \"Wheat_Price\": 52}\n",
    "]\n"
   ]
  },
  {
   "cell_type": "code",
   "execution_count": 3,
   "id": "c06ef9d5",
   "metadata": {},
   "outputs": [],
   "source": [
    "csv_file_path = \"rice_wheat_prices_nepal.csv\""
   ]
  },
  {
   "cell_type": "code",
   "execution_count": 4,
   "id": "39cdb9bc",
   "metadata": {},
   "outputs": [
    {
     "name": "stdout",
     "output_type": "stream",
     "text": [
      "CSV file has been created at: rice_wheat_prices_nepal.csv\n"
     ]
    }
   ],
   "source": [
    "with open(csv_file_path, mode='w', newline='') as file:\n",
    "    writer = csv.DictWriter(file, fieldnames=[\"Date\", \"Rice_Price\", \"Wheat_Price\"])\n",
    "    writer.writeheader()\n",
    "    for data in rice_wheat_prices:\n",
    "        writer.writerow(data)\n",
    "\n",
    "print(f\"CSV file has been created at: {csv_file_path}\")"
   ]
  },
  {
   "cell_type": "code",
   "execution_count": null,
   "id": "bf012eb9",
   "metadata": {},
   "outputs": [],
   "source": []
  }
 ],
 "metadata": {
  "kernelspec": {
   "display_name": "Python 3 (ipykernel)",
   "language": "python",
   "name": "python3"
  },
  "language_info": {
   "codemirror_mode": {
    "name": "ipython",
    "version": 3
   },
   "file_extension": ".py",
   "mimetype": "text/x-python",
   "name": "python",
   "nbconvert_exporter": "python",
   "pygments_lexer": "ipython3",
   "version": "3.11.5"
  }
 },
 "nbformat": 4,
 "nbformat_minor": 5
}
