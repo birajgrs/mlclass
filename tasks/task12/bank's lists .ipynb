{
 "cells": [
  {
   "cell_type": "code",
   "execution_count": 1,
   "id": "0e47ccaf",
   "metadata": {},
   "outputs": [],
   "source": [
    "import re\n",
    "import urllib.request\n",
    "import csv\n",
    "\n",
    "# URL of the Wikipedia page\n",
    "url = 'https://en.wikipedia.org/wiki/List_of_banks_in_Nepal'\n",
    "\n"
   ]
  },
  {
   "cell_type": "code",
   "execution_count": null,
   "id": "d71e0650",
   "metadata": {},
   "outputs": [],
   "source": []
  },
  {
   "cell_type": "code",
   "execution_count": null,
   "id": "550dc531",
   "metadata": {},
   "outputs": [],
   "source": [
    "# Fetch the page content\n",
    "response = urllib.request.urlopen(url)\n",
    "webContent = response.read().decode('utf-8')\n",
    "\n",
    "# Regular expressions to find tables and extract rows and data\n",
    "table_regex = re.compile(r'<table class=\"wikitable sortable.*?</table>', re.DOTALL)\n",
    "row_regex = re.compile(r'<tr>(.*?)</tr>', re.DOTALL)\n",
    "data_regex = re.compile(r'<t[dh].*?>(.*?)</t[dh]>', re.DOTALL)\n",
    "\n",
    "# Function to clean HTML tags from extracted data\n",
    "def clean_html(raw_html):\n",
    "    cleantext = re.sub(r'<.*?>', '', raw_html)\n",
    "    cleantext = re.sub(r'\\s+', ' ', cleantext).strip()\n",
    "    return cleantext\n",
    "\n",
    "# Extract tables\n",
    "tables = table_regex.findall(webContent)\n",
    "\n",
    "# List to store all data\n",
    "all_data = []\n",
    "\n",
    "# Process each table\n",
    "for table in tables:\n",
    "    # Extract rows\n",
    "    rows = row_regex.findall(table)\n",
    "    table_data = []\n",
    "    for row in rows:\n",
    "        # Extract data columns\n",
    "        columns = data_regex.findall(row)\n",
    "        clean_columns = [clean_html(col) for col in columns]\n",
    "        table_data.append(clean_columns)\n",
    "    all_data.append(table_data)\n",
    "\n",
    "# Save to CSV files\n",
    "for i, table_data in enumerate(all_data):\n",
    "    with open(f'level_{i+1}.csv', 'w', newline='', encoding='utf-8') as csvfile:\n",
    "        writer = csv.writer(csvfile)\n",
    "        for row in table_data:\n",
    "            writer.writerow(row)\n"
   ]
  }
 ],
 "metadata": {
  "kernelspec": {
   "display_name": "Python 3 (ipykernel)",
   "language": "python",
   "name": "python3"
  },
  "language_info": {
   "codemirror_mode": {
    "name": "ipython",
    "version": 3
   },
   "file_extension": ".py",
   "mimetype": "text/x-python",
   "name": "python",
   "nbconvert_exporter": "python",
   "pygments_lexer": "ipython3",
   "version": "3.11.5"
  }
 },
 "nbformat": 4,
 "nbformat_minor": 5
}
