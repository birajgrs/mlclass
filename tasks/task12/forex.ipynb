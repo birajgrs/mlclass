{
 "cells": [
  {
   "cell_type": "code",
   "execution_count": 14,
   "id": "b4cabb9a",
   "metadata": {},
   "outputs": [],
   "source": [
    "import urllib.request\n",
    "import re\n",
    "import csv\n",
    "from datetime import datetime"
   ]
  },
  {
   "cell_type": "code",
   "execution_count": 15,
   "id": "dd1faf39",
   "metadata": {},
   "outputs": [],
   "source": [
    "def fetch_html(url):\n",
    "    with urllib.request.urlopen(url) as response:\n",
    "        return response.read().decode('utf-8')\n"
   ]
  },
  {
   "cell_type": "code",
   "execution_count": 16,
   "id": "b0082690",
   "metadata": {},
   "outputs": [],
   "source": [
    "def extract_data(html):\n",
    "    # Regex pattern to match rows of the forex table\n",
    "    pattern = re.compile(\n",
    "        r'<tr>\\s*<td>\\s*<div class=\"d-flex align-items-center\">\\s*<div class=\"flag .*?\"></div>\\s*<div class=\"ml-2 text-uppercase\">(.*?)\\s*<span.*?</span>\\s*</div>\\s*</div>\\s*</td>\\s*<td>(.*?)</td>\\s*<td>(.*?)</td>\\s*<td>(.*?)</td>\\s*</tr>',\n",
    "        re.DOTALL\n",
    "    )\n",
    "    matches = pattern.findall(html)\n",
    "    data = []\n",
    "    for match in matches:\n",
    "        currency, unit, buy_rate, sell_rate = match\n",
    "        data.append([currency.strip(), unit.strip(), buy_rate.strip(), sell_rate.strip()])\n",
    "    return data"
   ]
  },
  {
   "cell_type": "code",
   "execution_count": 17,
   "id": "0a9d74b2",
   "metadata": {},
   "outputs": [],
   "source": [
    "# Function to save data to CSV\n",
    "def save_to_csv(data, filename):\n",
    "    with open(filename, 'w', newline='') as csvfile:\n",
    "        writer = csv.writer(csvfile)\n",
    "        writer.writerow(['Currency', 'Unit', 'Buy Rate', 'Sell Rate'])\n",
    "        writer.writerows(data)\n",
    "    print(f\"Data saved to {filename}\")"
   ]
  },
  {
   "cell_type": "code",
   "execution_count": 18,
   "id": "074c5587",
   "metadata": {},
   "outputs": [],
   "source": [
    "url_template = 'https://www.nrb.org.np/forex/{}'\n",
    "\n",
    "# Years to fetch data for\n",
    "years = [2020, 2021, 2022, 2023, 2024]"
   ]
  },
  {
   "cell_type": "code",
   "execution_count": 19,
   "id": "7f4dc4b4",
   "metadata": {},
   "outputs": [
    {
     "name": "stdout",
     "output_type": "stream",
     "text": [
      "Data saved to nepal_forex_2020.csv\n",
      "Data saved to nepal_forex_2021.csv\n",
      "Data saved to nepal_forex_2022.csv\n",
      "Data saved to nepal_forex_2023.csv\n",
      "Data saved to nepal_forex_2024.csv\n"
     ]
    }
   ],
   "source": [
    "for year in years:\n",
    "   \n",
    "    url = url_template.format(year)\n",
    "    \n",
    "    try:\n",
    "        # Fetch HTML content\n",
    "        html_content = fetch_html(url)\n",
    "\n",
    "        # Extract data\n",
    "        forex_data = extract_data(html_content)\n",
    "\n",
    "        # Save the extracted data to CSV\n",
    "        csv_filename = f'nepal_forex_{year}.csv'\n",
    "        save_to_csv(forex_data, csv_filename)\n",
    "    except Exception as e:\n",
    "        print(f\"Failed to fetch data for {year}: {e}\")"
   ]
  },
  {
   "cell_type": "code",
   "execution_count": null,
   "id": "91e779a2",
   "metadata": {},
   "outputs": [],
   "source": []
  }
 ],
 "metadata": {
  "kernelspec": {
   "display_name": "Python 3 (ipykernel)",
   "language": "python",
   "name": "python3"
  },
  "language_info": {
   "codemirror_mode": {
    "name": "ipython",
    "version": 3
   },
   "file_extension": ".py",
   "mimetype": "text/x-python",
   "name": "python",
   "nbconvert_exporter": "python",
   "pygments_lexer": "ipython3",
   "version": "3.11.5"
  }
 },
 "nbformat": 4,
 "nbformat_minor": 5
}
