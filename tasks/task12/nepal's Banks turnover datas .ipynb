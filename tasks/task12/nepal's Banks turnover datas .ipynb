{
 "cells": [
  {
   "cell_type": "code",
   "execution_count": 32,
   "id": "29cd04f9",
   "metadata": {},
   "outputs": [],
   "source": [
    "import urllib.request\n",
    "import re\n",
    "import csv"
   ]
  },
  {
   "cell_type": "code",
   "execution_count": 33,
   "id": "db8c407b",
   "metadata": {},
   "outputs": [],
   "source": [
    "url = \"https://www.investopaper.com/news/net-profit-of-commercial-banks-in-nepal/\"\n",
    "response = urllib.request.urlopen(url)\n",
    "webContent = response.read().decode('utf-8')"
   ]
  },
  {
   "cell_type": "code",
   "execution_count": 34,
   "id": "77cacf66",
   "metadata": {},
   "outputs": [],
   "source": [
    "# print(webContent)"
   ]
  },
  {
   "cell_type": "code",
   "execution_count": 37,
   "id": "81032802",
   "metadata": {},
   "outputs": [
    {
     "name": "stdout",
     "output_type": "stream",
     "text": [
      "Data saved to dataset_1.csv\n",
      "Data saved to dataset_2.csv\n"
     ]
    }
   ],
   "source": [
    "\n",
    "try:\n",
    "    response = urllib.request.urlopen(url)\n",
    "\n",
    "    webContent = response.read().decode('utf-8')\n",
    "\n",
    "    # Regular expressions to match fiscal years and table data\n",
    "    year_pattern = re.compile(r'<h2>Net Profit of Commercial Banks in Nepal-FY (\\d{4}/\\d{2})</h2>')\n",
    "    data_pattern = re.compile(r'<td>(.*?)</td>')\n",
    "\n",
    "    # Find matches for year and data\n",
    "    years = year_pattern.findall(webContent)\n",
    "    data_matches = data_pattern.findall(webContent)\n",
    "\n",
    "    # Divide data into chunks corresponding to each year\n",
    "    chunk_size = len(data_matches) // len(years)\n",
    "    years_data = [data_matches[i:i+chunk_size] for i in range(0, len(data_matches), chunk_size)]\n",
    "\n",
    "    # Save data to CSV files\n",
    "    for i, year_data in enumerate(years_data):\n",
    "        filename = f\"dataset_{i+1}.csv\"\n",
    "        with open(filename, mode='w', newline='', encoding='utf-8') as file:\n",
    "            writer = csv.writer(file)\n",
    "            writer.writerow([\"Rank\", \"Commercial Banks\", \"Net Profit\"])\n",
    "            for rank, bank, profit in zip(range(1, len(year_data) // 3 + 1), year_data[::3], year_data[1::3]):\n",
    "                writer.writerow([rank, bank, profit])\n",
    "        print(f\"Data saved to {filename}\")\n",
    "\n",
    "except Exception as e:\n",
    "    print(\"An error occurred:\", str(e))"
   ]
  },
  {
   "cell_type": "code",
   "execution_count": null,
   "id": "0c470be1",
   "metadata": {},
   "outputs": [],
   "source": []
  },
  {
   "cell_type": "code",
   "execution_count": null,
   "id": "d880ddc3",
   "metadata": {},
   "outputs": [],
   "source": []
  },
  {
   "cell_type": "code",
   "execution_count": null,
   "id": "801d4a9a",
   "metadata": {},
   "outputs": [],
   "source": []
  },
  {
   "cell_type": "code",
   "execution_count": 26,
   "id": "97ca4d59",
   "metadata": {},
   "outputs": [
    {
     "data": {
      "text/plain": [
       "1"
      ]
     },
     "execution_count": 26,
     "metadata": {},
     "output_type": "execute_result"
    }
   ],
   "source": [
    "1"
   ]
  },
  {
   "cell_type": "code",
   "execution_count": null,
   "id": "68a7848e",
   "metadata": {},
   "outputs": [],
   "source": []
  },
  {
   "cell_type": "code",
   "execution_count": null,
   "id": "552228d9",
   "metadata": {},
   "outputs": [],
   "source": []
  },
  {
   "cell_type": "code",
   "execution_count": null,
   "id": "22537077",
   "metadata": {},
   "outputs": [],
   "source": []
  },
  {
   "cell_type": "code",
   "execution_count": null,
   "id": "9728c38d",
   "metadata": {},
   "outputs": [],
   "source": []
  },
  {
   "cell_type": "code",
   "execution_count": null,
   "id": "8a85f5f7",
   "metadata": {},
   "outputs": [],
   "source": []
  }
 ],
 "metadata": {
  "kernelspec": {
   "display_name": "Python 3 (ipykernel)",
   "language": "python",
   "name": "python3"
  },
  "language_info": {
   "codemirror_mode": {
    "name": "ipython",
    "version": 3
   },
   "file_extension": ".py",
   "mimetype": "text/x-python",
   "name": "python",
   "nbconvert_exporter": "python",
   "pygments_lexer": "ipython3",
   "version": "3.11.5"
  }
 },
 "nbformat": 4,
 "nbformat_minor": 5
}
